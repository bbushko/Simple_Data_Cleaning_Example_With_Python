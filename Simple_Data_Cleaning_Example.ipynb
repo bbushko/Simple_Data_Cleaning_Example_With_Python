{
 "metadata": {
  "language_info": {
   "codemirror_mode": {
    "name": "ipython",
    "version": 3
   },
   "file_extension": ".py",
   "mimetype": "text/x-python",
   "name": "python",
   "nbconvert_exporter": "python",
   "pygments_lexer": "ipython3",
   "version": "3.8.5"
  },
  "orig_nbformat": 2,
  "kernelspec": {
   "name": "python385jvsc74a57bd0569d6b7e9215e11aba41c6454007e5c1b78bad7df09dab765d8cf00362c40f03",
   "display_name": "Python 3.8.5 64-bit ('base': conda)"
  }
 },
 "nbformat": 4,
 "nbformat_minor": 2,
 "cells": [
  {
   "cell_type": "code",
   "execution_count": 1,
   "metadata": {},
   "outputs": [
    {
     "output_type": "stream",
     "name": "stdout",
     "text": [
      "Marina Allison   ,27   ,   31.1 , \n#7010.0   ;Markus Valdez   ,   30, \n22.4,   #4050.0 ;Connie Ballard ,43 \n,   25.3 , #12060.0 ;Darnell Weber   \n,   35   , 20.6   , #7500.0;\nSylvie Charles   ,22, 22.1 \n,#3022.0   ;   Vinay Padilla,24,   \n26.9 ,#4620.0 ;Meredith Santiago, 51   , \n29.3 ,#16330.0;   Andre Mccarty, \n19,22.7 , #2900.0 ; \nLorena Hodson ,65, 33.1 , #19370.0; \nIsaac Vu ,34, 24.8,   #7045.0\n\nThere are 10 medical records in the data\n\n[['Marina Allison', '27', '31.1', '$7010.0'], ['Markus Valdez', '30', '22.4', '$4050.0'], ['Connie Ballard', '43', '25.3', '$12060.0'], ['Darnell Weber', '35', '20.6', '$7500.0'], ['Sylvie Charles', '22', '22.1', '$3022.0'], ['Vinay Padilla', '24', '26.9', '$4620.0'], ['Meredith Santiago', '51', '29.3', '$16330.0'], ['Andre Mccarty', '19', '22.7', '$2900.0'], ['Lorena Hodson', '65', '33.1', '$19370.0'], ['Isaac Vu', '34', '24.8', '$7045.0']]\nAverage BMI: 25.830000000000002\n\nMarina Allison is 27 years old with a BMI of 31.1 and an insurance cost of $7010.0.\n\nMarkus Valdez is 30 years old with a BMI of 22.4 and an insurance cost of $4050.0.\n\nConnie Ballard is 43 years old with a BMI of 25.3 and an insurance cost of $12060.0.\n\nDarnell Weber is 35 years old with a BMI of 20.6 and an insurance cost of $7500.0.\n\nSylvie Charles is 22 years old with a BMI of 22.1 and an insurance cost of $3022.0.\n\nVinay Padilla is 24 years old with a BMI of 26.9 and an insurance cost of $4620.0.\n\nMeredith Santiago is 51 years old with a BMI of 29.3 and an insurance cost of $16330.0.\n\nAndre Mccarty is 19 years old with a BMI of 22.7 and an insurance cost of $2900.0.\n\nLorena Hodson is 65 years old with a BMI of 33.1 and an insurance cost of $19370.0.\n\nIsaac Vu is 34 years old with a BMI of 24.8 and an insurance cost of $7045.0.\n"
     ]
    }
   ],
   "source": [
    "medical_data = \\\n",
    "\"\"\"Marina Allison   ,27   ,   31.1 , \n",
    "#7010.0   ;Markus Valdez   ,   30, \n",
    "22.4,   #4050.0 ;Connie Ballard ,43 \n",
    ",   25.3 , #12060.0 ;Darnell Weber   \n",
    ",   35   , 20.6   , #7500.0;\n",
    "Sylvie Charles   ,22, 22.1 \n",
    ",#3022.0   ;   Vinay Padilla,24,   \n",
    "26.9 ,#4620.0 ;Meredith Santiago, 51   , \n",
    "29.3 ,#16330.0;   Andre Mccarty, \n",
    "19,22.7 , #2900.0 ; \n",
    "Lorena Hodson ,65, 33.1 , #19370.0; \n",
    "Isaac Vu ,34, 24.8,   #7045.0\"\"\"\n",
    "print(medical_data)\n",
    "\n",
    "# Replacing # with $ symbol\n",
    "updated_medical_data = medical_data.replace('#', '$')\n",
    "num_records = 0\n",
    "\n",
    "# Iterating through updated data and defining how many records do we have by counting $ symbol.\n",
    "for i in updated_medical_data:\n",
    "  if i == '$':\n",
    "    num_records += 1\n",
    "# Using format function to print number of records instead of string concatenation\n",
    "print('\\nThere are {num_records} medical records in the data\\n'.format(num_records = num_records))\n",
    "\n",
    "# Splitting our data, so now we have separated records\n",
    "medical_data_split = updated_medical_data.split(';')\n",
    "\n",
    "# Creating a new list in which we have our separated records\n",
    "medical_records = []\n",
    "for record in medical_data_split:\n",
    "  medical_records.append(record.split(','))\n",
    "\n",
    "\n",
    "\n",
    "# Cleaning data\n",
    "\n",
    "\n",
    "# Creating empty list in which we will add our clean data\n",
    "medical_records_clean = []\n",
    "# Making a loop that iterates through each list in medical records, and cleaning it using .strip() method. Now our data is readable.\n",
    "for record in medical_records:\n",
    "  record_clean = []\n",
    "  for item in record:\n",
    "    record_clean.append(item.strip())\n",
    "  medical_records_clean.append(record_clean)\n",
    "\n",
    "print(medical_records_clean)\n",
    "\n",
    "\n",
    "\n",
    "# \"Analyzing\" data\n",
    "\n",
    "\n",
    "# Making empty lists and appending values to each of them\n",
    "names = []\n",
    "ages = []\n",
    "bmis = []\n",
    "insurance_costs = []\n",
    "for record in medical_records_clean:\n",
    "  names.append(record[0])\n",
    "  ages.append(record[1])\n",
    "  bmis.append(record[2])\n",
    "  insurance_costs.append(record[3])\n",
    "\n",
    "# Calculating average BMI\n",
    "total_bmi = 0\n",
    "for bmi in bmis:\n",
    "  total_bmi += float(bmi)\n",
    "average_bmi = total_bmi / len(bmis)\n",
    "print('Average BMI: {}'.format(average_bmi))\n",
    "\n",
    "# Printing out every record in appropriate for eye way\n",
    "for record in medical_records_clean:\n",
    "  print(\"\\n{0} is {1} years old with a BMI of {2} and an insurance cost of {3}.\".format(record[0], record[1], record[2], record[3]))\n",
    "\n",
    "\n"
   ]
  },
  {
   "cell_type": "code",
   "execution_count": null,
   "metadata": {},
   "outputs": [],
   "source": []
  }
 ]
}